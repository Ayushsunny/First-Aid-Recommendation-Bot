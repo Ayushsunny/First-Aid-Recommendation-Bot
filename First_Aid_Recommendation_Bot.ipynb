{
  "nbformat": 4,
  "nbformat_minor": 0,
  "metadata": {
    "colab": {
      "name": "First Aid Recommendation Bot.ipynb",
      "provenance": [],
      "collapsed_sections": [],
      "mount_file_id": "1_vt5A6MOh1bXwUrPobeZDJKPrficLhvq",
      "authorship_tag": "ABX9TyNq3DUolRyA0GGAGo4jnHcE",
      "include_colab_link": true
    },
    "kernelspec": {
      "name": "python3",
      "display_name": "Python 3"
    },
    "language_info": {
      "name": "python"
    }
  },
  "cells": [
    {
      "cell_type": "markdown",
      "metadata": {
        "id": "view-in-github",
        "colab_type": "text"
      },
      "source": [
        "<a href=\"https://colab.research.google.com/github/Ayushsunny/First-Aid-Recommendation-Bot/blob/main/First_Aid_Recommendation_Bot.ipynb\" target=\"_parent\"><img src=\"https://colab.research.google.com/assets/colab-badge.svg\" alt=\"Open In Colab\"/></a>"
      ]
    },
    {
      "cell_type": "code",
      "metadata": {
        "colab": {
          "base_uri": "https://localhost:8080/"
        },
        "id": "zwgW4cPydscs",
        "outputId": "6fd0fdd7-fa06-4cb5-9e5a-cb6a090d2de2"
      },
      "source": [
        "!pip install tflearn"
      ],
      "execution_count": 16,
      "outputs": [
        {
          "output_type": "stream",
          "text": [
            "Requirement already satisfied: tflearn in /usr/local/lib/python3.7/dist-packages (0.5.0)\n",
            "Requirement already satisfied: Pillow in /usr/local/lib/python3.7/dist-packages (from tflearn) (7.1.2)\n",
            "Requirement already satisfied: numpy in /usr/local/lib/python3.7/dist-packages (from tflearn) (1.19.5)\n",
            "Requirement already satisfied: six in /usr/local/lib/python3.7/dist-packages (from tflearn) (1.15.0)\n"
          ],
          "name": "stdout"
        }
      ]
    },
    {
      "cell_type": "code",
      "metadata": {
        "colab": {
          "base_uri": "https://localhost:8080/"
        },
        "id": "WuLONAfkPjKM",
        "outputId": "f8fa92a3-9cad-4de5-fbf8-6b3141997646"
      },
      "source": [
        "import nltk\n",
        "nltk.download('punkt')\n",
        "from nltk.stem.lancaster import LancasterStemmer\n",
        "stemmer = LancasterStemmer()"
      ],
      "execution_count": null,
      "outputs": [
        {
          "output_type": "stream",
          "text": [
            "[nltk_data] Downloading package punkt to /root/nltk_data...\n",
            "[nltk_data]   Package punkt is already up-to-date!\n"
          ],
          "name": "stdout"
        }
      ]
    },
    {
      "cell_type": "code",
      "metadata": {
        "id": "9Yvr_VgoPuNJ"
      },
      "source": [
        "import numpy\n",
        "import tflearn\n",
        "import tensorflow\n",
        "import random\n",
        "import json\n",
        "import pickle"
      ],
      "execution_count": null,
      "outputs": []
    },
    {
      "cell_type": "code",
      "metadata": {
        "id": "5v1rZRHXP7rb"
      },
      "source": [
        "with open(\"/content/drive/MyDrive/Projects/Medi-chat-bot/intents.json\") as file:\n",
        "\tdata = json.load(file)"
      ],
      "execution_count": null,
      "outputs": []
    },
    {
      "cell_type": "code",
      "metadata": {
        "id": "oDe11P4zQ4Bm"
      },
      "source": [
        "words = []\n",
        "labels = []\n",
        "docs_x = []\n",
        "docs_y = []\n",
        "\n",
        "for intent in data[\"intents\"]:\n",
        "\tfor pattern in intent[\"patterns\"]:\n",
        "\t\twrds = nltk.word_tokenize(pattern)\n",
        "\t\twords.extend(wrds)\n",
        "\t\tdocs_x.append(wrds)\n",
        "\t\tdocs_y.append(intent[\"tag\"])\n",
        "\n",
        "\tif intent[\"tag\"] not in labels:\n",
        "\t\tlabels.append(intent[\"tag\"])\n",
        "\n",
        "words = [stemmer.stem(w.lower()) for w in words if w != \"?\"]\n",
        "words = sorted(list(set(words)))\n",
        "\n",
        "labels = sorted(labels)\n",
        "\n",
        "\n",
        "training = []\n",
        "output = []\n",
        "\n",
        "out_empty = [0 for _ in range(len(labels))]\n",
        "\n",
        "for x, doc in enumerate(docs_x):\n",
        "\tbag = []\n",
        "\n",
        "\twrds = [stemmer.stem(w) for w in doc]\n",
        "\n",
        "\tfor w in words:\n",
        "\t\tif w in wrds:\n",
        "\t\t\tbag.append(1)\n",
        "\t\telse:\n",
        "\t\t\tbag.append(0)\n",
        "\toutput_row = out_empty[:]\n",
        "\toutput_row[labels.index(docs_y[x])] = 1\n",
        "\n",
        "\ttraining.append(bag)\n",
        "\toutput.append(output_row)\n",
        "\n",
        "training = numpy.array(training)\n",
        "output = numpy.array(output)"
      ],
      "execution_count": null,
      "outputs": []
    },
    {
      "cell_type": "code",
      "metadata": {
        "colab": {
          "base_uri": "https://localhost:8080/"
        },
        "id": "68lZAXdvQ5TK",
        "outputId": "671cc8b8-5c7f-4d1f-8afd-da6b9bf50c29"
      },
      "source": [
        "tensorflow.compat.v1.reset_default_graph()\n",
        "\n",
        "net = tflearn.input_data(shape=[None, len(training[0])])\n",
        "net = tflearn.fully_connected(net, 8)\n",
        "net = tflearn.fully_connected(net, 8)\n",
        "net = tflearn.fully_connected(net, len(output[0]), activation=\"softmax\")\n",
        "net = tflearn.regression(net)\n",
        "\n",
        "model = tflearn.DNN(net)"
      ],
      "execution_count": null,
      "outputs": [
        {
          "output_type": "stream",
          "text": [
            "WARNING:tensorflow:From /usr/local/lib/python3.7/dist-packages/tflearn/initializations.py:165: calling TruncatedNormal.__init__ (from tensorflow.python.ops.init_ops) with dtype is deprecated and will be removed in a future version.\n",
            "Instructions for updating:\n",
            "Call initializer instance with the dtype argument instead of passing it to the constructor\n"
          ],
          "name": "stdout"
        }
      ]
    },
    {
      "cell_type": "code",
      "metadata": {
        "colab": {
          "base_uri": "https://localhost:8080/"
        },
        "id": "COyNQ5o3Q-RH",
        "outputId": "a896d574-a834-4dec-bd85-9b93b03b2a03"
      },
      "source": [
        "try:\n",
        "\tmodel.load(\"model.tflearn\")\n",
        "except:\n",
        "\tmodel = tflearn.DNN(net)\n",
        "\tmodel.fit(training, output, n_epoch=1000, batch_size=8, show_metric=True)\n",
        "\tmodel.save(\"model.tflearn\")"
      ],
      "execution_count": null,
      "outputs": [
        {
          "output_type": "stream",
          "text": [
            "Training Step: 23999  | time: 0.084s\n",
            "| Adam | epoch: 1000 | loss: 0.00000 - acc: 1.0000 -- iter: 184/188\n",
            "Training Step: 24000  | time: 0.090s\n",
            "| Adam | epoch: 1000 | loss: 0.00000 - acc: 1.0000 -- iter: 188/188\n",
            "--\n",
            "INFO:tensorflow:/content/model.tflearn is not in all_model_checkpoint_paths. Manually adding it.\n"
          ],
          "name": "stdout"
        }
      ]
    },
    {
      "cell_type": "code",
      "metadata": {
        "id": "DaOgaapnRB59"
      },
      "source": [
        "def bag_of_words(s,words):\n",
        "\tbag = [0 for _ in range(len(words))]\n",
        "\n",
        "\n",
        "\ts_words = nltk.word_tokenize(s)\n",
        "\ts_words = [stemmer.stem(word.lower()) for word in s_words]\n",
        "\n",
        "\tfor se in s_words:\n",
        "\t\tfor i, w in enumerate(words):\n",
        "\t\t\tif w == se:\n",
        "\t\t\t\tbag[i] = 1\n",
        "\n",
        "\treturn numpy.array(bag)"
      ],
      "execution_count": null,
      "outputs": []
    },
    {
      "cell_type": "code",
      "metadata": {
        "id": "QWR6it8sRF4u"
      },
      "source": [
        "def chat():\n",
        "\tprint(\"Start Talking with the bot(type quit to stop!\")\n",
        "\twhile True:\n",
        "\t\tinp = input(\"You: \")\n",
        "\t\tif inp.lower() == \"quit\":\n",
        "\t\t\tbreak\n",
        "\n",
        "\t\tresults = model.predict([bag_of_words(inp,words)])[0]\n",
        "\t\tresults_index = numpy.argmax(results)\n",
        "\t\ttag = labels[results_index]\n",
        "\n",
        "\t\tif results[results_index] > 0.5:\n",
        "\t\t\tfor tg in data[\"intents\"]:\n",
        "\t\t\t\tif tg['tag'] == tag:\n",
        "\t\t\t\t\tresponses = tg['responses']\n",
        "\t\t\tprint(random.choice(responses))\n",
        "\t\t\tprint(\"\\n\")\n",
        "\n",
        "\t\telse:\n",
        "\t\t\tprint(\"I didnt get that, try again\")"
      ],
      "execution_count": null,
      "outputs": []
    },
    {
      "cell_type": "code",
      "metadata": {
        "colab": {
          "base_uri": "https://localhost:8080/"
        },
        "id": "8bkzD2uZRMcm",
        "outputId": "5ea7e0c4-6600-47b7-c3e3-2edc348242f8"
      },
      "source": [
        "chat()"
      ],
      "execution_count": null,
      "outputs": [
        {
          "output_type": "stream",
          "text": [
            "Start Talking with the bot(type quit to stop!\n",
            "You: What to do if Cuts?\n",
            "Wash the cut properly to prevent infection and stop the bleeding by applying pressure for 1-2minutes until bleeding stops. Apply Petroleum Jelly to make sure that the wound is moist for quick healing. Finally cover the cut with a sterile bandage. Pain relievers such as acetaminophen can be applied.\n",
            "\n",
            "\n",
            "You: How to cure Cuts?\n",
            "Wash the cut properly to prevent infection and stop the bleeding by applying pressure for 1-2minutes until bleeding stops. Apply Petroleum Jelly to make sure that the wound is moist for quick healing. Finally cover the cut with a sterile bandage. Pain relievers such as acetaminophen can be applied.\n",
            "\n",
            "\n",
            "You: Do Abrasions cause scars?\n",
            "Begin with washed hands.Gently clean the area with cool to lukewarm water and mild soap. Remove dirt or other particles from the wound using sterilized tweezers.For a mild scrape that’s not bleeding, leave the wound uncovered.If the wound is bleeding, use a clean cloth or bandage, and apply gentle pressure to the area to stop any bleeding.Cover a wound that bled with a thin layer of topical antibiotic ointment, like Bacitracin, or a sterile moisture barrier ointment, like Aquaphor. Cover it with a clean bandage or gauze. Gently clean the wound and change the ointment and bandage once per day.Watch the area for signs of infection, like pain or redness and swelling. See your doctor if you suspect infection.\n",
            "\n",
            "\n",
            "You: quit\n"
          ],
          "name": "stdout"
        }
      ]
    }
  ]
}